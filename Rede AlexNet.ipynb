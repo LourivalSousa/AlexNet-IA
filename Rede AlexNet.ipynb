{
  "nbformat": 4,
  "nbformat_minor": 0,
  "metadata": {
    "colab": {
      "provenance": [],
      "gpuType": "T4"
    },
    "kernelspec": {
      "name": "python3",
      "display_name": "Python 3"
    },
    "language_info": {
      "name": "python"
    },
    "accelerator": "GPU"
  },
  "cells": [
    {
      "cell_type": "code",
      "execution_count": 1,
      "metadata": {
        "colab": {
          "base_uri": "https://localhost:8080/"
        },
        "id": "RrVXBF5f7YYe",
        "outputId": "99d678af-ea74-4c20-f1b5-f0612cfd86e0"
      },
      "outputs": [
        {
          "output_type": "stream",
          "name": "stdout",
          "text": [
            "True\n",
            "Mounted at /content/drive\n"
          ]
        }
      ],
      "source": [
        "try:\n",
        "    import google.colab\n",
        "    IN_COLAB = True\n",
        "except:\n",
        "    IN_COLAB = False\n",
        "\n",
        "# DEBUG\n",
        "print(IN_COLAB)\n",
        "\n",
        "if IN_COLAB:\n",
        "    from google.colab import drive\n",
        "    drive.mount('/content/drive', force_remount=True)"
      ]
    },
    {
      "cell_type": "code",
      "source": [
        "\n",
        "import os\n",
        "import random\n",
        "import time\n",
        "import platform\n",
        "\n",
        "import numpy as np\n",
        "import matplotlib.pyplot as plt\n",
        "from sklearn import metrics\n",
        "\n",
        "import torch\n",
        "import torch.nn.functional as F\n",
        "from torch import nn, optim\n",
        "# import torch.nn as nn\n",
        "# import torch.optim as optim\n",
        "from torch.optim import lr_scheduler\n",
        "\n",
        "from torchvision import transforms, models, datasets, utils\n",
        "model = torch.hub.load('pytorch/vision:v0.10.0', 'alexnet', pretrained=True)\n",
        "model.eval()"
      ],
      "metadata": {
        "id": "0eP7BSI07ejR",
        "colab": {
          "base_uri": "https://localhost:8080/"
        },
        "outputId": "17ec5ce0-c944-4875-f4f1-273951f69a13"
      },
      "execution_count": 2,
      "outputs": [
        {
          "output_type": "stream",
          "name": "stderr",
          "text": [
            "Downloading: \"https://github.com/pytorch/vision/zipball/v0.10.0\" to /root/.cache/torch/hub/v0.10.0.zip\n",
            "/usr/local/lib/python3.10/dist-packages/torchvision/models/_utils.py:208: UserWarning: The parameter 'pretrained' is deprecated since 0.13 and may be removed in the future, please use 'weights' instead.\n",
            "  warnings.warn(\n",
            "/usr/local/lib/python3.10/dist-packages/torchvision/models/_utils.py:223: UserWarning: Arguments other than a weight enum or `None` for 'weights' are deprecated since 0.13 and may be removed in the future. The current behavior is equivalent to passing `weights=AlexNet_Weights.IMAGENET1K_V1`. You can also use `weights=AlexNet_Weights.DEFAULT` to get the most up-to-date weights.\n",
            "  warnings.warn(msg)\n",
            "Downloading: \"https://download.pytorch.org/models/alexnet-owt-7be5be79.pth\" to /root/.cache/torch/hub/checkpoints/alexnet-owt-7be5be79.pth\n",
            "100%|██████████| 233M/233M [00:01<00:00, 135MB/s]\n"
          ]
        },
        {
          "output_type": "execute_result",
          "data": {
            "text/plain": [
              "AlexNet(\n",
              "  (features): Sequential(\n",
              "    (0): Conv2d(3, 64, kernel_size=(11, 11), stride=(4, 4), padding=(2, 2))\n",
              "    (1): ReLU(inplace=True)\n",
              "    (2): MaxPool2d(kernel_size=3, stride=2, padding=0, dilation=1, ceil_mode=False)\n",
              "    (3): Conv2d(64, 192, kernel_size=(5, 5), stride=(1, 1), padding=(2, 2))\n",
              "    (4): ReLU(inplace=True)\n",
              "    (5): MaxPool2d(kernel_size=3, stride=2, padding=0, dilation=1, ceil_mode=False)\n",
              "    (6): Conv2d(192, 384, kernel_size=(3, 3), stride=(1, 1), padding=(1, 1))\n",
              "    (7): ReLU(inplace=True)\n",
              "    (8): Conv2d(384, 256, kernel_size=(3, 3), stride=(1, 1), padding=(1, 1))\n",
              "    (9): ReLU(inplace=True)\n",
              "    (10): Conv2d(256, 256, kernel_size=(3, 3), stride=(1, 1), padding=(1, 1))\n",
              "    (11): ReLU(inplace=True)\n",
              "    (12): MaxPool2d(kernel_size=3, stride=2, padding=0, dilation=1, ceil_mode=False)\n",
              "  )\n",
              "  (avgpool): AdaptiveAvgPool2d(output_size=(6, 6))\n",
              "  (classifier): Sequential(\n",
              "    (0): Dropout(p=0.5, inplace=False)\n",
              "    (1): Linear(in_features=9216, out_features=4096, bias=True)\n",
              "    (2): ReLU(inplace=True)\n",
              "    (3): Dropout(p=0.5, inplace=False)\n",
              "    (4): Linear(in_features=4096, out_features=4096, bias=True)\n",
              "    (5): ReLU(inplace=True)\n",
              "    (6): Linear(in_features=4096, out_features=1000, bias=True)\n",
              "  )\n",
              ")"
            ]
          },
          "metadata": {},
          "execution_count": 2
        }
      ]
    },
    {
      "cell_type": "code",
      "source": [
        "SEED = 42\n",
        "\n",
        "random.seed(SEED)\n",
        "np.random.seed(SEED)\n",
        "\n",
        "torch.manual_seed(SEED)\n",
        "torch.cuda.manual_seed(SEED)\n",
        "\n",
        "torch.backends.cudnn.benchmark = False\n",
        "torch.backends.cudnn.deterministic = True"
      ],
      "metadata": {
        "id": "JZMW11-SsjfS"
      },
      "execution_count": 3,
      "outputs": []
    },
    {
      "cell_type": "code",
      "source": [
        "DEVICE = torch.device('cuda' if torch.cuda.is_available() else 'cpu')\n",
        "print('\\nDevice: {0}'.format(DEVICE))\n"
      ],
      "metadata": {
        "id": "5nYbUl9z7qVn",
        "colab": {
          "base_uri": "https://localhost:8080/"
        },
        "outputId": "06601238-b656-470a-88e7-71c167b3d15a"
      },
      "execution_count": 4,
      "outputs": [
        {
          "output_type": "stream",
          "name": "stdout",
          "text": [
            "\n",
            "Device: cuda\n"
          ]
        }
      ]
    },
    {
      "cell_type": "code",
      "source": [
        "!nvidia-smi"
      ],
      "metadata": {
        "id": "oq3ClTdY7xNQ",
        "colab": {
          "base_uri": "https://localhost:8080/"
        },
        "outputId": "4de136d5-d876-4a57-8a8b-9060e51886bf"
      },
      "execution_count": 5,
      "outputs": [
        {
          "output_type": "stream",
          "name": "stdout",
          "text": [
            "Fri Dec  1 04:55:51 2023       \n",
            "+-----------------------------------------------------------------------------+\n",
            "| NVIDIA-SMI 525.105.17   Driver Version: 525.105.17   CUDA Version: 12.0     |\n",
            "|-------------------------------+----------------------+----------------------+\n",
            "| GPU  Name        Persistence-M| Bus-Id        Disp.A | Volatile Uncorr. ECC |\n",
            "| Fan  Temp  Perf  Pwr:Usage/Cap|         Memory-Usage | GPU-Util  Compute M. |\n",
            "|                               |                      |               MIG M. |\n",
            "|===============================+======================+======================|\n",
            "|   0  Tesla T4            Off  | 00000000:00:04.0 Off |                    0 |\n",
            "| N/A   39C    P8     9W /  70W |      3MiB / 15360MiB |      0%      Default |\n",
            "|                               |                      |                  N/A |\n",
            "+-------------------------------+----------------------+----------------------+\n",
            "                                                                               \n",
            "+-----------------------------------------------------------------------------+\n",
            "| Processes:                                                                  |\n",
            "|  GPU   GI   CI        PID   Type   Process name                  GPU Memory |\n",
            "|        ID   ID                                                   Usage      |\n",
            "|=============================================================================|\n",
            "|  No running processes found                                                 |\n",
            "+-----------------------------------------------------------------------------+\n"
          ]
        }
      ]
    },
    {
      "cell_type": "code",
      "source": [
        "ds_path = '/content/drive/My Drive/archive/Plants_2/'"
      ],
      "metadata": {
        "id": "xa7y4cA_7-AH"
      },
      "execution_count": 6,
      "outputs": []
    },
    {
      "cell_type": "code",
      "source": [
        "# Número de classes\n",
        "num_classes = 22\n",
        "\n",
        "# Nomes das classes\n",
        "class_names = [\n",
        "    'Alstonia Scholaris diseased (P2a)',\n",
        "    'Alstonia Scholaris healthy (P2b)',\n",
        "    'Arjun diseased (P1a)',\n",
        "    'Arjun healthy (P1b)',\n",
        "    'Bael diseased (P4b)',\n",
        "    'Basil healthy (P8)',\n",
        "    'Chinar diseased (P11b)',\n",
        "    'Chinar healthy (P11a)',\n",
        "    'Gauva diseased (P3b)',\n",
        "    'Gauva healthy (P3a)',\n",
        "    'Jamun diseased (P5b)',\n",
        "    'Jamun healthy (P5a)',\n",
        "    'Jatropha diseased (P6b)',\n",
        "    'Jatropha healthy (P6a)',\n",
        "    'Lemon diseased (P10b)',\n",
        "    'Lemon healthy (P10a)',\n",
        "    'Mango diseased (P0b)',\n",
        "    'Mango healthy (P0a)',\n",
        "    'Pomegranate diseased (P9b)',\n",
        "    'Pomegranate healthy (P9a)',\n",
        "    'Pongamia Pinnata diseased (P7b)',\n",
        "    'Pongamia Pinnata healthy (P7a)'\n",
        "    ]\n",
        "\n",
        "# Tamanho do lote (mini-batch)\n",
        "batch_size = 64\n",
        "\n",
        "# Taxa de aprendizado\n",
        "lr = 0.001\n",
        "\n",
        "# Mommentum\n",
        "mm = 0.9\n",
        "\n",
        "# Número de épocas\n",
        "epochs = 25 # Usar durante o desenvolvimento\n",
        "### epochs = 50"
      ],
      "metadata": {
        "id": "xbLGB7W48BTn"
      },
      "execution_count": 7,
      "outputs": []
    },
    {
      "cell_type": "code",
      "source": [
        "data_transforms = transforms.Compose([\n",
        "    transforms.Resize(size=(224, 224)),\n",
        "    transforms.ToTensor(),\n",
        "    ### transforms.Normalize([0.5, 0.5, 0.5], [0.5, 0.5, 0.5])\n",
        "    # Média e desvio padrão do ImageNet.\n",
        "    transforms.Normalize([0.485, 0.456, 0.406], [0.229, 0.224, 0.225])\n",
        "])\n",
        "train_dataset = datasets.ImageFolder(root= ds_path + \"train\", transform=data_transforms)\n",
        "test_dataset = datasets.ImageFolder(root=ds_path + \"test\", transform=data_transforms)\n",
        "val_dataset = datasets.ImageFolder(root=ds_path + \"valid\", transform=data_transforms)\n",
        "\n",
        "\n",
        "# Embaralhar o conjunto de treinamento\n",
        "num_train_samples = len(train_dataset)\n",
        "indices = list(range(num_train_samples))\n",
        "random.shuffle(indices)\n",
        "\n",
        "quarter_size = int(0.25 * num_train_samples)\n",
        "selected_indices = indices[:quarter_size]\n",
        "\n",
        "# Criar um novo conjunto de treinamento com apenas 25% das imagens\n",
        "subset_train_dataset = torch.utils.data.Subset(train_dataset, selected_indices)\n",
        "# train_size = len(train_dataset)\n",
        "test_size = len(test_dataset)\n",
        "val_size = len(val_dataset)\n",
        "train_size = len(subset_train_dataset)\n",
        "\n",
        "# DEBUG\n",
        "print(train_size)\n",
        "print(test_size)\n",
        "print(val_size)\n",
        "\n",
        "train_dataloader = torch.utils.data.DataLoader(dataset=subset_train_dataset, batch_size=batch_size)\n",
        "test_dataloader = torch.utils.data.DataLoader(dataset=test_dataset, batch_size=batch_size)\n",
        "val_dataloader = torch.utils.data.DataLoader(dataset=val_dataset, batch_size=batch_size)"
      ],
      "metadata": {
        "id": "7MOVv8bd8EcP",
        "colab": {
          "base_uri": "https://localhost:8080/"
        },
        "outputId": "501ead19-8c69-484d-903c-2fe3feb59060"
      },
      "execution_count": 8,
      "outputs": [
        {
          "output_type": "stream",
          "name": "stdout",
          "text": [
            "1068\n",
            "110\n",
            "110\n"
          ]
        }
      ]
    },
    {
      "cell_type": "code",
      "source": [
        "def show_transformed_image(image):\n",
        "    # Unnormalize all channels\n",
        "    ### for t, m, s in zip(np_image, [0.5, 0.5, 0.5], [0.5, 0.5, 0.5]):\n",
        "    for t, m, s in zip(image, [0.485, 0.456, 0.406], [0.229, 0.224, 0.225]): # (ImageNet weights)\n",
        "        t.mul_(s).add_(m)\n",
        "\n",
        "    np_image = image.numpy()\n",
        "\n",
        "    plt.figure(figsize=(20, 20))\n",
        "    plt.imshow(np.transpose(np_image, (1, 2, 0)))\n",
        "\n",
        "# Visualizar 'batch_size' imagens\n",
        "dataloader_vis = torch.utils.data.DataLoader(dataset=train_dataloader, shuffle=True, batch_size=64)\n",
        "items = iter(dataloader_vis)\n",
        "for image, label in items:\n",
        "    pass\n",
        "\n",
        "show_transformed_image(utils.make_grid(image))"
      ],
      "metadata": {
        "id": "7kwIIwZ57Mnb",
        "colab": {
          "base_uri": "https://localhost:8080/",
          "height": 390
        },
        "outputId": "201adbc7-d841-43ed-a078-757f2c546c4c"
      },
      "execution_count": 9,
      "outputs": [
        {
          "output_type": "error",
          "ename": "TypeError",
          "evalue": "ignored",
          "traceback": [
            "\u001b[0;31m---------------------------------------------------------------------------\u001b[0m",
            "\u001b[0;31mTypeError\u001b[0m                                 Traceback (most recent call last)",
            "\u001b[0;32m<ipython-input-9-c38fc135599a>\u001b[0m in \u001b[0;36m<cell line: 15>\u001b[0;34m()\u001b[0m\n\u001b[1;32m     13\u001b[0m \u001b[0mdataloader_vis\u001b[0m \u001b[0;34m=\u001b[0m \u001b[0mtorch\u001b[0m\u001b[0;34m.\u001b[0m\u001b[0mutils\u001b[0m\u001b[0;34m.\u001b[0m\u001b[0mdata\u001b[0m\u001b[0;34m.\u001b[0m\u001b[0mDataLoader\u001b[0m\u001b[0;34m(\u001b[0m\u001b[0mdataset\u001b[0m\u001b[0;34m=\u001b[0m\u001b[0mtrain_dataloader\u001b[0m\u001b[0;34m,\u001b[0m \u001b[0mshuffle\u001b[0m\u001b[0;34m=\u001b[0m\u001b[0;32mTrue\u001b[0m\u001b[0;34m,\u001b[0m \u001b[0mbatch_size\u001b[0m\u001b[0;34m=\u001b[0m\u001b[0;36m64\u001b[0m\u001b[0;34m)\u001b[0m\u001b[0;34m\u001b[0m\u001b[0;34m\u001b[0m\u001b[0m\n\u001b[1;32m     14\u001b[0m \u001b[0mitems\u001b[0m \u001b[0;34m=\u001b[0m \u001b[0miter\u001b[0m\u001b[0;34m(\u001b[0m\u001b[0mdataloader_vis\u001b[0m\u001b[0;34m)\u001b[0m\u001b[0;34m\u001b[0m\u001b[0;34m\u001b[0m\u001b[0m\n\u001b[0;32m---> 15\u001b[0;31m \u001b[0;32mfor\u001b[0m \u001b[0mimage\u001b[0m\u001b[0;34m,\u001b[0m \u001b[0mlabel\u001b[0m \u001b[0;32min\u001b[0m \u001b[0mitems\u001b[0m\u001b[0;34m:\u001b[0m\u001b[0;34m\u001b[0m\u001b[0;34m\u001b[0m\u001b[0m\n\u001b[0m\u001b[1;32m     16\u001b[0m     \u001b[0;32mpass\u001b[0m\u001b[0;34m\u001b[0m\u001b[0;34m\u001b[0m\u001b[0m\n\u001b[1;32m     17\u001b[0m \u001b[0;34m\u001b[0m\u001b[0m\n",
            "\u001b[0;32m/usr/local/lib/python3.10/dist-packages/torch/utils/data/dataloader.py\u001b[0m in \u001b[0;36m__next__\u001b[0;34m(self)\u001b[0m\n\u001b[1;32m    628\u001b[0m                 \u001b[0;31m# TODO(https://github.com/pytorch/pytorch/issues/76750)\u001b[0m\u001b[0;34m\u001b[0m\u001b[0;34m\u001b[0m\u001b[0m\n\u001b[1;32m    629\u001b[0m                 \u001b[0mself\u001b[0m\u001b[0;34m.\u001b[0m\u001b[0m_reset\u001b[0m\u001b[0;34m(\u001b[0m\u001b[0;34m)\u001b[0m  \u001b[0;31m# type: ignore[call-arg]\u001b[0m\u001b[0;34m\u001b[0m\u001b[0;34m\u001b[0m\u001b[0m\n\u001b[0;32m--> 630\u001b[0;31m             \u001b[0mdata\u001b[0m \u001b[0;34m=\u001b[0m \u001b[0mself\u001b[0m\u001b[0;34m.\u001b[0m\u001b[0m_next_data\u001b[0m\u001b[0;34m(\u001b[0m\u001b[0;34m)\u001b[0m\u001b[0;34m\u001b[0m\u001b[0;34m\u001b[0m\u001b[0m\n\u001b[0m\u001b[1;32m    631\u001b[0m             \u001b[0mself\u001b[0m\u001b[0;34m.\u001b[0m\u001b[0m_num_yielded\u001b[0m \u001b[0;34m+=\u001b[0m \u001b[0;36m1\u001b[0m\u001b[0;34m\u001b[0m\u001b[0;34m\u001b[0m\u001b[0m\n\u001b[1;32m    632\u001b[0m             \u001b[0;32mif\u001b[0m \u001b[0mself\u001b[0m\u001b[0;34m.\u001b[0m\u001b[0m_dataset_kind\u001b[0m \u001b[0;34m==\u001b[0m \u001b[0m_DatasetKind\u001b[0m\u001b[0;34m.\u001b[0m\u001b[0mIterable\u001b[0m \u001b[0;32mand\u001b[0m\u001b[0;31m \u001b[0m\u001b[0;31m\\\u001b[0m\u001b[0;34m\u001b[0m\u001b[0;34m\u001b[0m\u001b[0m\n",
            "\u001b[0;32m/usr/local/lib/python3.10/dist-packages/torch/utils/data/dataloader.py\u001b[0m in \u001b[0;36m_next_data\u001b[0;34m(self)\u001b[0m\n\u001b[1;32m    672\u001b[0m     \u001b[0;32mdef\u001b[0m \u001b[0m_next_data\u001b[0m\u001b[0;34m(\u001b[0m\u001b[0mself\u001b[0m\u001b[0;34m)\u001b[0m\u001b[0;34m:\u001b[0m\u001b[0;34m\u001b[0m\u001b[0;34m\u001b[0m\u001b[0m\n\u001b[1;32m    673\u001b[0m         \u001b[0mindex\u001b[0m \u001b[0;34m=\u001b[0m \u001b[0mself\u001b[0m\u001b[0;34m.\u001b[0m\u001b[0m_next_index\u001b[0m\u001b[0;34m(\u001b[0m\u001b[0;34m)\u001b[0m  \u001b[0;31m# may raise StopIteration\u001b[0m\u001b[0;34m\u001b[0m\u001b[0;34m\u001b[0m\u001b[0m\n\u001b[0;32m--> 674\u001b[0;31m         \u001b[0mdata\u001b[0m \u001b[0;34m=\u001b[0m \u001b[0mself\u001b[0m\u001b[0;34m.\u001b[0m\u001b[0m_dataset_fetcher\u001b[0m\u001b[0;34m.\u001b[0m\u001b[0mfetch\u001b[0m\u001b[0;34m(\u001b[0m\u001b[0mindex\u001b[0m\u001b[0;34m)\u001b[0m  \u001b[0;31m# may raise StopIteration\u001b[0m\u001b[0;34m\u001b[0m\u001b[0;34m\u001b[0m\u001b[0m\n\u001b[0m\u001b[1;32m    675\u001b[0m         \u001b[0;32mif\u001b[0m \u001b[0mself\u001b[0m\u001b[0;34m.\u001b[0m\u001b[0m_pin_memory\u001b[0m\u001b[0;34m:\u001b[0m\u001b[0;34m\u001b[0m\u001b[0;34m\u001b[0m\u001b[0m\n\u001b[1;32m    676\u001b[0m             \u001b[0mdata\u001b[0m \u001b[0;34m=\u001b[0m \u001b[0m_utils\u001b[0m\u001b[0;34m.\u001b[0m\u001b[0mpin_memory\u001b[0m\u001b[0;34m.\u001b[0m\u001b[0mpin_memory\u001b[0m\u001b[0;34m(\u001b[0m\u001b[0mdata\u001b[0m\u001b[0;34m,\u001b[0m \u001b[0mself\u001b[0m\u001b[0;34m.\u001b[0m\u001b[0m_pin_memory_device\u001b[0m\u001b[0;34m)\u001b[0m\u001b[0;34m\u001b[0m\u001b[0;34m\u001b[0m\u001b[0m\n",
            "\u001b[0;32m/usr/local/lib/python3.10/dist-packages/torch/utils/data/_utils/fetch.py\u001b[0m in \u001b[0;36mfetch\u001b[0;34m(self, possibly_batched_index)\u001b[0m\n\u001b[1;32m     49\u001b[0m                 \u001b[0mdata\u001b[0m \u001b[0;34m=\u001b[0m \u001b[0mself\u001b[0m\u001b[0;34m.\u001b[0m\u001b[0mdataset\u001b[0m\u001b[0;34m.\u001b[0m\u001b[0m__getitems__\u001b[0m\u001b[0;34m(\u001b[0m\u001b[0mpossibly_batched_index\u001b[0m\u001b[0;34m)\u001b[0m\u001b[0;34m\u001b[0m\u001b[0;34m\u001b[0m\u001b[0m\n\u001b[1;32m     50\u001b[0m             \u001b[0;32melse\u001b[0m\u001b[0;34m:\u001b[0m\u001b[0;34m\u001b[0m\u001b[0;34m\u001b[0m\u001b[0m\n\u001b[0;32m---> 51\u001b[0;31m                 \u001b[0mdata\u001b[0m \u001b[0;34m=\u001b[0m \u001b[0;34m[\u001b[0m\u001b[0mself\u001b[0m\u001b[0;34m.\u001b[0m\u001b[0mdataset\u001b[0m\u001b[0;34m[\u001b[0m\u001b[0midx\u001b[0m\u001b[0;34m]\u001b[0m \u001b[0;32mfor\u001b[0m \u001b[0midx\u001b[0m \u001b[0;32min\u001b[0m \u001b[0mpossibly_batched_index\u001b[0m\u001b[0;34m]\u001b[0m\u001b[0;34m\u001b[0m\u001b[0;34m\u001b[0m\u001b[0m\n\u001b[0m\u001b[1;32m     52\u001b[0m         \u001b[0;32melse\u001b[0m\u001b[0;34m:\u001b[0m\u001b[0;34m\u001b[0m\u001b[0;34m\u001b[0m\u001b[0m\n\u001b[1;32m     53\u001b[0m             \u001b[0mdata\u001b[0m \u001b[0;34m=\u001b[0m \u001b[0mself\u001b[0m\u001b[0;34m.\u001b[0m\u001b[0mdataset\u001b[0m\u001b[0;34m[\u001b[0m\u001b[0mpossibly_batched_index\u001b[0m\u001b[0;34m]\u001b[0m\u001b[0;34m\u001b[0m\u001b[0;34m\u001b[0m\u001b[0m\n",
            "\u001b[0;32m/usr/local/lib/python3.10/dist-packages/torch/utils/data/_utils/fetch.py\u001b[0m in \u001b[0;36m<listcomp>\u001b[0;34m(.0)\u001b[0m\n\u001b[1;32m     49\u001b[0m                 \u001b[0mdata\u001b[0m \u001b[0;34m=\u001b[0m \u001b[0mself\u001b[0m\u001b[0;34m.\u001b[0m\u001b[0mdataset\u001b[0m\u001b[0;34m.\u001b[0m\u001b[0m__getitems__\u001b[0m\u001b[0;34m(\u001b[0m\u001b[0mpossibly_batched_index\u001b[0m\u001b[0;34m)\u001b[0m\u001b[0;34m\u001b[0m\u001b[0;34m\u001b[0m\u001b[0m\n\u001b[1;32m     50\u001b[0m             \u001b[0;32melse\u001b[0m\u001b[0;34m:\u001b[0m\u001b[0;34m\u001b[0m\u001b[0;34m\u001b[0m\u001b[0m\n\u001b[0;32m---> 51\u001b[0;31m                 \u001b[0mdata\u001b[0m \u001b[0;34m=\u001b[0m \u001b[0;34m[\u001b[0m\u001b[0mself\u001b[0m\u001b[0;34m.\u001b[0m\u001b[0mdataset\u001b[0m\u001b[0;34m[\u001b[0m\u001b[0midx\u001b[0m\u001b[0;34m]\u001b[0m \u001b[0;32mfor\u001b[0m \u001b[0midx\u001b[0m \u001b[0;32min\u001b[0m \u001b[0mpossibly_batched_index\u001b[0m\u001b[0;34m]\u001b[0m\u001b[0;34m\u001b[0m\u001b[0;34m\u001b[0m\u001b[0m\n\u001b[0m\u001b[1;32m     52\u001b[0m         \u001b[0;32melse\u001b[0m\u001b[0;34m:\u001b[0m\u001b[0;34m\u001b[0m\u001b[0;34m\u001b[0m\u001b[0m\n\u001b[1;32m     53\u001b[0m             \u001b[0mdata\u001b[0m \u001b[0;34m=\u001b[0m \u001b[0mself\u001b[0m\u001b[0;34m.\u001b[0m\u001b[0mdataset\u001b[0m\u001b[0;34m[\u001b[0m\u001b[0mpossibly_batched_index\u001b[0m\u001b[0;34m]\u001b[0m\u001b[0;34m\u001b[0m\u001b[0;34m\u001b[0m\u001b[0m\n",
            "\u001b[0;31mTypeError\u001b[0m: 'DataLoader' object is not subscriptable"
          ]
        }
      ]
    },
    {
      "cell_type": "code",
      "source": [
        "### model_ft = models.alexnet(pretrained=True)\n",
        "model_ft = models.alexnet(weights='AlexNet_Weights.DEFAULT')\n",
        "\n",
        "# Altera o número de neurônios na cadama de saída.\n",
        "model_ft.classifier[6] = nn.Linear(4096, num_classes)"
      ],
      "metadata": {
        "id": "_Jcy3fOK8RqI"
      },
      "execution_count": 10,
      "outputs": []
    },
    {
      "cell_type": "code",
      "source": [
        "# Simple net\n",
        "### model = Net(3, 5)\n",
        "\n",
        "# Pretrainned\n",
        "model = model_ft"
      ],
      "metadata": {
        "id": "XCFDvMrd8VeY"
      },
      "execution_count": 11,
      "outputs": []
    },
    {
      "cell_type": "code",
      "source": [
        "# Envia o modelo para a GPU\n",
        "if DEVICE.type == 'cuda':\n",
        "    model = model.cuda() # Cuda\n",
        "\n",
        "# Imprime o modelo\n",
        "print(str(model))"
      ],
      "metadata": {
        "id": "E1xQt-II8YSf",
        "colab": {
          "base_uri": "https://localhost:8080/"
        },
        "outputId": "9d24f029-035e-4392-9575-eecadb557122"
      },
      "execution_count": 12,
      "outputs": [
        {
          "output_type": "stream",
          "name": "stdout",
          "text": [
            "AlexNet(\n",
            "  (features): Sequential(\n",
            "    (0): Conv2d(3, 64, kernel_size=(11, 11), stride=(4, 4), padding=(2, 2))\n",
            "    (1): ReLU(inplace=True)\n",
            "    (2): MaxPool2d(kernel_size=3, stride=2, padding=0, dilation=1, ceil_mode=False)\n",
            "    (3): Conv2d(64, 192, kernel_size=(5, 5), stride=(1, 1), padding=(2, 2))\n",
            "    (4): ReLU(inplace=True)\n",
            "    (5): MaxPool2d(kernel_size=3, stride=2, padding=0, dilation=1, ceil_mode=False)\n",
            "    (6): Conv2d(192, 384, kernel_size=(3, 3), stride=(1, 1), padding=(1, 1))\n",
            "    (7): ReLU(inplace=True)\n",
            "    (8): Conv2d(384, 256, kernel_size=(3, 3), stride=(1, 1), padding=(1, 1))\n",
            "    (9): ReLU(inplace=True)\n",
            "    (10): Conv2d(256, 256, kernel_size=(3, 3), stride=(1, 1), padding=(1, 1))\n",
            "    (11): ReLU(inplace=True)\n",
            "    (12): MaxPool2d(kernel_size=3, stride=2, padding=0, dilation=1, ceil_mode=False)\n",
            "  )\n",
            "  (avgpool): AdaptiveAvgPool2d(output_size=(6, 6))\n",
            "  (classifier): Sequential(\n",
            "    (0): Dropout(p=0.5, inplace=False)\n",
            "    (1): Linear(in_features=9216, out_features=4096, bias=True)\n",
            "    (2): ReLU(inplace=True)\n",
            "    (3): Dropout(p=0.5, inplace=False)\n",
            "    (4): Linear(in_features=4096, out_features=4096, bias=True)\n",
            "    (5): ReLU(inplace=True)\n",
            "    (6): Linear(in_features=4096, out_features=22, bias=True)\n",
            "  )\n",
            ")\n"
          ]
        }
      ]
    },
    {
      "cell_type": "code",
      "source": [
        "# Função de perda\n",
        "criterion = nn.CrossEntropyLoss()\n",
        "\n",
        "# Otimizador\n",
        "optimizer = optim.SGD(model.parameters(), lr=lr, momentum=mm)"
      ],
      "metadata": {
        "id": "z3zMHj848Y_H"
      },
      "execution_count": 13,
      "outputs": []
    },
    {
      "cell_type": "code",
      "source": [
        "def get_subset():\n",
        "  num_train_samples = len(train_dataset)\n",
        "  indices = list(range(num_train_samples))\n",
        "  random.shuffle(indices)\n",
        "\n",
        "  quarter_size = int(0.25 * num_train_samples)\n",
        "  selected_indices = indices[:quarter_size]\n",
        "\n",
        "  # Criar um novo conjunto de treinamento com apenas 25% das imagens\n",
        "  subset_train_dataset = torch.utils.data.Subset(train_dataset, selected_indices)\n",
        "\n",
        "  return torch.utils.data.DataLoader(dataset=subset_train_dataset, batch_size=batch_size)"
      ],
      "metadata": {
        "id": "V-fcbAY_wIDK"
      },
      "execution_count": 14,
      "outputs": []
    },
    {
      "cell_type": "code",
      "source": [
        "# Tempo total do treinamento (treinamento e validação)\n",
        "time_total_start = time.time()\n",
        "\n",
        "# Lista das perdas (loss) e acurácias (accuracy) de trino para cada época.\n",
        "train_loss_list = []\n",
        "train_acc_list = []\n",
        "\n",
        "# Lista das perdas (loss) e acurácias (accuracy) de validação para cada época.\n",
        "val_loss_list = []\n",
        "val_acc_list = []\n",
        "\n",
        "for epoch in range(epochs):\n",
        "    # TREINAMENTO\n",
        "    # =========================================================================\n",
        "\n",
        "    train_dataloader = get_subset()\n",
        "\n",
        "    # Inicia contagem de tempo da época\n",
        "    time_epoch_start = time.time()\n",
        "\n",
        "    # Habilita o modelo para o modo de treino\n",
        "    model_ft.train()\n",
        "\n",
        "    # Perda (loss) nesta época\n",
        "    loss_epoch_train = 0.0\n",
        "    # Amostras classificadas corretamente nesta época\n",
        "    num_hits_epoch_train = 0\n",
        "\n",
        "    # Iterate along the batches of the TRAINING SET\n",
        "    for inputs, labels in train_dataloader:\n",
        "        if DEVICE.type == 'cuda':\n",
        "            inputs = inputs.to(DEVICE)\n",
        "            labels = labels.to(DEVICE)\n",
        "\n",
        "        # Zera os parametros do gradiente\n",
        "        optimizer.zero_grad()\n",
        "\n",
        "        # FORWARD\n",
        "        # ------>\n",
        "        # Habilita o cálculo do gradiente\n",
        "        torch.set_grad_enabled(True)\n",
        "\n",
        "        # Saída do modelo para o lote\n",
        "        outputs = model_ft(inputs)\n",
        "\n",
        "        # 'outputs' está em porcentagens. Tomar os maximos como resposta.\n",
        "        preds = torch.argmax(outputs, dim=1).float()\n",
        "\n",
        "        # Calcula a perda (loss)\n",
        "        loss = criterion(outputs, labels)\n",
        "\n",
        "        # BACKWARD\n",
        "        # <-------\n",
        "        loss.backward()\n",
        "\n",
        "        # Atualiza os parâmetros da rede\n",
        "        optimizer.step()\n",
        "\n",
        "        # Atualiza a perda da época\n",
        "        loss_epoch_train += float(loss.item()) * inputs.size(0)\n",
        "\n",
        "        # Atualiza o número de amostras classificadas corretamente na época.\n",
        "        num_hits_epoch_train += torch.sum(preds == labels.data)\n",
        "\n",
        "    # Perda desta época\n",
        "    train_loss = loss_epoch_train / train_size\n",
        "    # Acurácia desta época\n",
        "    train_acc = float(num_hits_epoch_train.double() / train_size)\n",
        "\n",
        "    # Store loss and accuracy in lists\n",
        "    train_loss_list.append(train_loss)\n",
        "    train_acc_list.append(train_acc)\n",
        "\n",
        "    # VALIDAÇÃO\n",
        "    # =========================================================================\n",
        "    model_ft.eval()\n",
        "\n",
        "    # Pego o numero de perda e o numero de acertos\n",
        "    loss_epoch_val = 0.0 # Atual perda\n",
        "    num_hits_epoch_val = 0 # Numero de itens corretos\n",
        "\n",
        "    # Iterate along the batches of the VALIDATION SET\n",
        "    for inputs, labels in val_dataloader:\n",
        "\n",
        "        if DEVICE.type == 'cuda':\n",
        "            inputs = inputs.to(DEVICE)\n",
        "            labels = labels.to(DEVICE)\n",
        "\n",
        "        # Zera os parametros do gradiente\n",
        "        optimizer.zero_grad()\n",
        "\n",
        "        # Desabilita o cálculo do gradiente durante a validação.\n",
        "        torch.set_grad_enabled(False)\n",
        "\n",
        "        # Gero um tensor cujas linhas representam o tamanho do \"batch\" do input\n",
        "        outputs = model_ft(inputs)\n",
        "\n",
        "        # Retorna a maior predicao.\n",
        "        #### _, preds = torch.max(outputs, 1)\n",
        "        preds = torch.argmax(outputs, dim=1).float()\n",
        "\n",
        "        # Calcula a perda (loss)\n",
        "        loss = criterion(outputs, labels)\n",
        "\n",
        "        # Atualiza a perda da época\n",
        "        loss_epoch_val += float(loss.item()) * inputs.size(0)\n",
        "        # # Atualiza os acertos da época\n",
        "        num_hits_epoch_val += torch.sum(preds == labels.data)\n",
        "\n",
        "    # Ajusta o learning rate\n",
        "    ### scheduler.step()\n",
        "\n",
        "    # Perda e acuracia do conjunto de validacao para esta época\n",
        "    val_loss = loss_epoch_val / val_size\n",
        "    val_acc = float(num_hits_epoch_val.double() / val_size)\n",
        "\n",
        "    # Store loss and accuracy in lists\n",
        "    val_loss_list.append(val_loss)\n",
        "    val_acc_list.append(val_acc)\n",
        "\n",
        "    # Tempo total desta época\n",
        "    time_epoch = time.time() - time_epoch_start\n",
        "\n",
        "    # PRINTING\n",
        "    # --------\n",
        "    print('Epoch {}/{} - TRAIN Loss: {:.4f} TRAIN Acc: {:.4f} - VAL. Loss: {:.4f} VAL. Acc: {:.4f} ({:.4f} seconds)'.format(epoch, epochs - 1, train_loss, train_acc, val_loss, val_acc, time_epoch))\n",
        "\n",
        "# Tempo total do treinamento\n",
        "time_total_train = time.time() - time_total_start\n",
        "\n",
        "# PRINTING\n",
        "print('\\nTreinamento finalizado. ({0}m and {1}s)'.format(int(time_total_train // 60), int(time_total_train % 60)))"
      ],
      "metadata": {
        "id": "vB5yQBEvyllZ",
        "colab": {
          "base_uri": "https://localhost:8080/"
        },
        "outputId": "ad980947-012b-4bf1-f781-bd1bb924a6cb"
      },
      "execution_count": 15,
      "outputs": [
        {
          "output_type": "stream",
          "name": "stdout",
          "text": [
            "Epoch 0/24 - TRAIN Loss: 2.5223 TRAIN Acc: 0.2463 - VAL. Loss: 2.0321 VAL. Acc: 0.4000 (846.9855 seconds)\n",
            "Epoch 1/24 - TRAIN Loss: 1.3237 TRAIN Acc: 0.5936 - VAL. Loss: 1.0187 VAL. Acc: 0.6545 (659.3413 seconds)\n",
            "Epoch 2/24 - TRAIN Loss: 0.7843 TRAIN Acc: 0.7378 - VAL. Loss: 0.8701 VAL. Acc: 0.7273 (593.7174 seconds)\n",
            "Epoch 3/24 - TRAIN Loss: 0.5503 TRAIN Acc: 0.8174 - VAL. Loss: 0.8629 VAL. Acc: 0.6909 (523.3466 seconds)\n",
            "Epoch 4/24 - TRAIN Loss: 0.5560 TRAIN Acc: 0.7996 - VAL. Loss: 0.7579 VAL. Acc: 0.6909 (480.7114 seconds)\n",
            "Epoch 5/24 - TRAIN Loss: 0.4333 TRAIN Acc: 0.8558 - VAL. Loss: 0.7448 VAL. Acc: 0.7364 (435.1331 seconds)\n",
            "Epoch 6/24 - TRAIN Loss: 0.3681 TRAIN Acc: 0.8792 - VAL. Loss: 0.7684 VAL. Acc: 0.7727 (409.0146 seconds)\n",
            "Epoch 7/24 - TRAIN Loss: 0.3665 TRAIN Acc: 0.8689 - VAL. Loss: 0.7762 VAL. Acc: 0.7636 (392.2791 seconds)\n",
            "Epoch 8/24 - TRAIN Loss: 0.3537 TRAIN Acc: 0.8773 - VAL. Loss: 0.5527 VAL. Acc: 0.7727 (363.3006 seconds)\n",
            "Epoch 9/24 - TRAIN Loss: 0.3093 TRAIN Acc: 0.8979 - VAL. Loss: 0.6035 VAL. Acc: 0.8000 (361.3427 seconds)\n",
            "Epoch 10/24 - TRAIN Loss: 0.2597 TRAIN Acc: 0.9054 - VAL. Loss: 0.5397 VAL. Acc: 0.8000 (351.3716 seconds)\n",
            "Epoch 11/24 - TRAIN Loss: 0.2582 TRAIN Acc: 0.9157 - VAL. Loss: 0.6996 VAL. Acc: 0.8182 (340.8568 seconds)\n",
            "Epoch 12/24 - TRAIN Loss: 0.2422 TRAIN Acc: 0.9139 - VAL. Loss: 0.6231 VAL. Acc: 0.7909 (342.6224 seconds)\n",
            "Epoch 13/24 - TRAIN Loss: 0.1971 TRAIN Acc: 0.9335 - VAL. Loss: 0.4634 VAL. Acc: 0.8182 (330.2148 seconds)\n",
            "Epoch 14/24 - TRAIN Loss: 0.1728 TRAIN Acc: 0.9391 - VAL. Loss: 0.5294 VAL. Acc: 0.8000 (330.2983 seconds)\n",
            "Epoch 15/24 - TRAIN Loss: 0.1810 TRAIN Acc: 0.9363 - VAL. Loss: 0.5397 VAL. Acc: 0.8273 (327.1414 seconds)\n",
            "Epoch 16/24 - TRAIN Loss: 0.1783 TRAIN Acc: 0.9345 - VAL. Loss: 0.7729 VAL. Acc: 0.7727 (324.5136 seconds)\n",
            "Epoch 17/24 - TRAIN Loss: 0.1841 TRAIN Acc: 0.9363 - VAL. Loss: 0.5773 VAL. Acc: 0.8091 (321.3735 seconds)\n",
            "Epoch 18/24 - TRAIN Loss: 0.1877 TRAIN Acc: 0.9382 - VAL. Loss: 0.4715 VAL. Acc: 0.7909 (319.1045 seconds)\n",
            "Epoch 19/24 - TRAIN Loss: 0.1255 TRAIN Acc: 0.9607 - VAL. Loss: 0.6015 VAL. Acc: 0.8182 (317.3441 seconds)\n",
            "Epoch 20/24 - TRAIN Loss: 0.1412 TRAIN Acc: 0.9504 - VAL. Loss: 0.5499 VAL. Acc: 0.8636 (319.9947 seconds)\n",
            "Epoch 21/24 - TRAIN Loss: 0.1314 TRAIN Acc: 0.9607 - VAL. Loss: 0.5131 VAL. Acc: 0.8273 (316.5054 seconds)\n",
            "Epoch 22/24 - TRAIN Loss: 0.1048 TRAIN Acc: 0.9700 - VAL. Loss: 0.5780 VAL. Acc: 0.8545 (318.9541 seconds)\n",
            "Epoch 23/24 - TRAIN Loss: 0.1176 TRAIN Acc: 0.9569 - VAL. Loss: 0.4370 VAL. Acc: 0.8455 (316.4081 seconds)\n",
            "Epoch 24/24 - TRAIN Loss: 0.0980 TRAIN Acc: 0.9672 - VAL. Loss: 0.4075 VAL. Acc: 0.8364 (316.8048 seconds)\n",
            "\n",
            "Treinamento finalizado. (165m and 58s)\n"
          ]
        }
      ]
    },
    {
      "cell_type": "code",
      "source": [
        "# Lista com os indices das épocas. [0, 1, ... num_epochs - 1]\n",
        "epochs_list = []\n",
        "for i in range(len(train_loss_list)):\n",
        "    epochs_list.append(i)\n",
        "\n",
        "# Titulo - Loss and accuracy chart\n",
        "loss_title = 'Loss - ' + str(epochs) + ' epochs'\n",
        "acc_title = 'Accuracy - ' + str(epochs) + ' epochs'\n",
        "\n",
        "# Plot - Loss\n",
        "plt.figure()\n",
        "plt.title(loss_title)\n",
        "plt.plot(epochs_list, train_loss_list, c='magenta' ,ls='--', label='Train loss', fillstyle='none')\n",
        "plt.plot(epochs_list, val_loss_list, c='green' ,ls='--', label='Val. loss', fillstyle='none')\n",
        "plt.xlabel('Epochs')\n",
        "plt.ylabel('Loss')\n",
        "plt.legend(loc='best')\n",
        "\n",
        "# Plot - Accuracy\n",
        "plt.figure()\n",
        "plt.title(acc_title)\n",
        "plt.plot(epochs_list, train_acc_list, c='magenta' ,ls='-', label='Train acuracy', fillstyle='none')\n",
        "plt.plot(epochs_list, val_acc_list, c='green' ,ls='-', label='Val. accuracy', fillstyle='none')\n",
        "plt.xlabel('Epochs')\n",
        "plt.ylabel('Accuracy')\n",
        "plt.legend(loc='best')"
      ],
      "metadata": {
        "id": "PqS2DkZs_l3U",
        "colab": {
          "base_uri": "https://localhost:8080/",
          "height": 944
        },
        "outputId": "debeee81-58ed-4e3e-bdd6-6a6e6e7092b9"
      },
      "execution_count": 16,
      "outputs": [
        {
          "output_type": "execute_result",
          "data": {
            "text/plain": [
              "<matplotlib.legend.Legend at 0x7890982de770>"
            ]
          },
          "metadata": {},
          "execution_count": 16
        },
        {
          "output_type": "display_data",
          "data": {
            "text/plain": [
              "<Figure size 640x480 with 1 Axes>"
            ],
            "image/png": "[encoded data removed]"
          },
          "metadata": {}
        },
        {
          "output_type": "display_data",
          "data": {
            "text/plain": [
              "<Figure size 640x480 with 1 Axes>"
            ],
            "image/png": "[encoded data removed]"
          },
          "metadata": {}
        }
      ]
    },
    {
      "cell_type": "code",
      "source": [
        "# Lista com as classes reais e classes preditas\n",
        "true_val_list = []\n",
        "pred_val_list = []\n",
        "# Lista com as probabilidades\n",
        "prob_val_list = []\n",
        "\n",
        "# Iterate along the batches of the VALIDATION SET\n",
        "for i, (img_list, labelList) in enumerate(val_dataloader):\n",
        "\n",
        "    if DEVICE.type == 'cuda':\n",
        "        img_list = img_list.to(DEVICE)\n",
        "        labelList = labelList.to(DEVICE)\n",
        "\n",
        "    # Desabilita o cálculo do gradiente durante validação e testes.\n",
        "    torch.set_grad_enabled(False)\n",
        "\n",
        "    # -----> FORWARD\n",
        "    # Saída do modelo\n",
        "    outputs = model_ft(img_list)\n",
        "\n",
        "    # Predição\n",
        "    ### _, preds = torch.max(output, 1)\n",
        "    preds = torch.argmax(outputs, dim=1)\n",
        "\n",
        "    # Calcula probabilidades\n",
        "    # https://discuss.pytorch.org/t/obtain-probabilities-from-cross-entropy-loss/157259\n",
        "    outputs_prob = nn.functional.softmax(outputs, dim=1)\n",
        "    prob_val_batch = np.asarray(outputs_prob.cpu())\n",
        "\n",
        "    # Classes reais true) e classes preditas (pred) para este lote.\n",
        "    if DEVICE.type == 'cuda':\n",
        "        true_val_batch = np.asarray(labelList.cpu())\n",
        "        pred_val_batch = np.asarray(preds.cpu())\n",
        "\n",
        "    # Itera ao longo do lote\n",
        "    for i in range(0, len(pred_val_batch)):\n",
        "        true_val_list.append(true_val_batch[i])\n",
        "        pred_val_list.append(pred_val_batch[i])\n",
        "\n",
        "        prob_val_list.append(prob_val_batch[i])"
      ],
      "metadata": {
        "id": "vStcUMctVfTj"
      },
      "execution_count": 17,
      "outputs": []
    },
    {
      "cell_type": "code",
      "source": [
        "# Confusion matrix\n",
        "conf_mat_val = metrics.confusion_matrix(true_val_list, pred_val_list)\n",
        "print('\\nConfusion matrix ( validation)')\n",
        "print(conf_mat_val)\n",
        "\n",
        "# Classification report - Scikit-learn\n",
        "class_rep_val = metrics.classification_report(true_val_list, pred_val_list,\n",
        "                                              target_names=class_names, digits=4,\n",
        "                                              zero_division=0)\n",
        "print('\\nClass. report (validation)')\n",
        "print(class_rep_val)\n",
        "\n",
        "# Accuracy\n",
        "acc_val = metrics.accuracy_score(true_val_list, pred_val_list)\n",
        "print('\\n\\nValidation Acc.: {:.4f}'.format(acc_val))"
      ],
      "metadata": {
        "id": "6aJ74v-WViyY",
        "colab": {
          "base_uri": "https://localhost:8080/"
        },
        "outputId": "6c263a38-9779-413b-894a-67cd00ee002d"
      },
      "execution_count": 18,
      "outputs": [
        {
          "metadata": {
            "tags": null
          },
          "name": "stdout",
          "output_type": "stream",
          "text": [
            "\n",
            "Confusion matrix ( validation)\n",
            "[[4 1 0 0 0 0 0 0 0 0 0 0 0 0 0 0 0 0 0 0 0 0]\n",
            " [0 4 0 0 0 0 0 0 0 0 0 0 0 0 0 0 1 0 0 0 0 0]\n",
            " [0 0 1 4 0 0 0 0 0 0 0 0 0 0 0 0 0 0 0 0 0 0]\n",
            " [0 0 0 5 0 0 0 0 0 0 0 0 0 0 0 0 0 0 0 0 0 0]\n",
            " [0 0 0 0 5 0 0 0 0 0 0 0 0 0 0 0 0 0 0 0 0 0]\n",
            " [0 0 0 0 0 5 0 0 0 0 0 0 0 0 0 0 0 0 0 0 0 0]\n",
            " [0 0 0 0 0 0 5 0 0 0 0 0 0 0 0 0 0 0 0 0 0 0]\n",
            " [0 0 0 0 0 0 2 3 0 0 0 0 0 0 0 0 0 0 0 0 0 0]\n",
            " [0 0 0 0 0 0 0 0 5 0 0 0 0 0 0 0 0 0 0 0 0 0]\n",
            " [0 0 0 0 0 0 0 0 0 5 0 0 0 0 0 0 0 0 0 0 0 0]\n",
            " [0 0 0 0 0 0 0 0 0 0 4 1 0 0 0 0 0 0 0 0 0 0]\n",
            " [0 0 0 0 0 0 0 0 0 1 2 2 0 0 0 0 0 0 0 0 0 0]\n",
            " [0 0 0 0 0 0 0 0 0 0 0 0 5 0 0 0 0 0 0 0 0 0]\n",
            " [0 0 0 0 0 0 0 0 0 0 0 0 1 4 0 0 0 0 0 0 0 0]\n",
            " [0 0 0 0 0 0 0 0 0 0 0 0 0 0 5 0 0 0 0 0 0 0]\n",
            " [0 0 0 0 0 0 0 0 0 0 0 0 0 0 0 5 0 0 0 0 0 0]\n",
            " [0 0 0 0 0 0 0 0 0 0 1 0 0 0 0 0 4 0 0 0 0 0]\n",
            " [0 0 0 0 0 0 0 0 0 0 0 0 0 0 0 0 0 5 0 0 0 0]\n",
            " [0 0 0 0 0 0 0 0 0 0 0 0 0 0 0 0 0 0 5 0 0 0]\n",
            " [0 0 0 1 0 0 0 0 0 0 0 0 0 0 0 0 0 0 0 4 0 0]\n",
            " [0 0 0 0 0 0 0 0 1 1 1 0 0 0 0 0 0 0 0 0 2 0]\n",
            " [0 0 0 0 0 0 0 0 0 0 0 0 0 0 0 0 0 0 0 0 0 5]]\n",
            "\n",
            "Class. report (validation)\n",
            "                                   precision    recall  f1-score   support\n",
            "\n",
            "Alstonia Scholaris diseased (P2a)     1.0000    0.8000    0.8889         5\n",
            " Alstonia Scholaris healthy (P2b)     0.8000    0.8000    0.8000         5\n",
            "             Arjun diseased (P1a)     1.0000    0.2000    0.3333         5\n",
            "              Arjun healthy (P1b)     0.5000    1.0000    0.6667         5\n",
            "              Bael diseased (P4b)     1.0000    1.0000    1.0000         5\n",
            "               Basil healthy (P8)     1.0000    1.0000    1.0000         5\n",
            "           Chinar diseased (P11b)     0.7143    1.0000    0.8333         5\n",
            "            Chinar healthy (P11a)     1.0000    0.6000    0.7500         5\n",
            "             Gauva diseased (P3b)     0.8333    1.0000    0.9091         5\n",
            "              Gauva healthy (P3a)     0.7143    1.0000    0.8333         5\n",
            "             Jamun diseased (P5b)     0.5000    0.8000    0.6154         5\n",
            "              Jamun healthy (P5a)     0.6667    0.4000    0.5000         5\n",
            "          Jatropha diseased (P6b)     0.8333    1.0000    0.9091         5\n",
            "           Jatropha healthy (P6a)     1.0000    0.8000    0.8889         5\n",
            "            Lemon diseased (P10b)     1.0000    1.0000    1.0000         5\n",
            "             Lemon healthy (P10a)     1.0000    1.0000    1.0000         5\n",
            "             Mango diseased (P0b)     0.8000    0.8000    0.8000         5\n",
            "              Mango healthy (P0a)     1.0000    1.0000    1.0000         5\n",
            "       Pomegranate diseased (P9b)     1.0000    1.0000    1.0000         5\n",
            "        Pomegranate healthy (P9a)     1.0000    0.8000    0.8889         5\n",
            "  Pongamia Pinnata diseased (P7b)     1.0000    0.4000    0.5714         5\n",
            "   Pongamia Pinnata healthy (P7a)     1.0000    1.0000    1.0000         5\n",
            "\n",
            "                         accuracy                         0.8364       110\n",
            "                        macro avg     0.8801    0.8364    0.8267       110\n",
            "                     weighted avg     0.8801    0.8364    0.8267       110\n",
            "\n",
            "\n",
            "\n",
            "Validation Acc.: 0.8364\n"
          ]
        }
      ]
    }
  ]
}